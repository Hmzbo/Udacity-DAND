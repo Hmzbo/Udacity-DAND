{
 "cells": [
  {
   "cell_type": "markdown",
   "metadata": {},
   "source": [
    "## Gathering Data from WeRateDogs Archive on Twitter"
   ]
  },
  {
   "cell_type": "code",
   "execution_count": 43,
   "metadata": {},
   "outputs": [],
   "source": [
    "import tweepy\n",
    "\n",
    "consumer_key = 'fZ02PDJouHBtg4p6U4CbL9RpT'\n",
    "consumer_secret = 'N2B6Mc9RZL2dBhwp7FsCk6hcABHxYXfF7LjPHZ5rIdPjmUxDrB'\n",
    "access_token = '135271500-8p3ZXPt0uZCUDSOHpFzb45bJ81Q06Va1etU0ZPMq'\n",
    "access_secret = 'iLax1AimmJtxqVxSBu8hBqkrEppUVYsIulEGo4JLxMfei'\n",
    "\n",
    "auth = tweepy.OAuthHandler(consumer_key, consumer_secret)\n",
    "auth.set_access_token(access_token, access_secret)\n",
    "\n",
    "api = tweepy.API(auth , wait_on_rate_limit=True, wait_on_rate_limit_notify=True)"
   ]
  },
  {
   "cell_type": "code",
   "execution_count": 70,
   "metadata": {},
   "outputs": [],
   "source": [
    "import pandas as pd\n",
    "import json\n",
    "\n",
    "df = pd.read_csv('twitter-archive-enhanced.csv')"
   ]
  },
  {
   "cell_type": "code",
   "execution_count": 67,
   "metadata": {
    "scrolled": true
   },
   "outputs": [
    {
     "name": "stderr",
     "output_type": "stream",
     "text": [
      "Rate limit reached. Sleeping for: 118\n",
      "Rate limit reached. Sleeping for: 459\n"
     ]
    }
   ],
   "source": [
    "import time\n",
    "deleted_tweets_id_list=[]\n",
    "start = time.time()\n",
    "with open('tweet_json.txt','w') as file:\n",
    "    for item in range(df.shape[0]):\n",
    "        try:\n",
    "            temp_tweet = api.get_status(df['tweet_id'][item], tweet_mode='extended')\n",
    "        except:\n",
    "            deleted_tweets_id_list.append(df['tweet_id'][item])\n",
    "            pass\n",
    "        json.dump(temp_tweet._json, file)\n",
    "        file.write('\\n')\n",
    "end=time.time()\n",
    "duration=end-start"
   ]
  },
  {
   "cell_type": "code",
   "execution_count": 76,
   "metadata": {},
   "outputs": [
    {
     "data": {
      "text/plain": [
       "29.044849987824758"
      ]
     },
     "execution_count": 76,
     "metadata": {},
     "output_type": "execute_result"
    }
   ],
   "source": [
    "duration/60"
   ]
  },
  {
   "cell_type": "code",
   "execution_count": 74,
   "metadata": {},
   "outputs": [],
   "source": [
    "s= str(deleted_tweets_id_list)\n",
    "S=s[1:-1]\n",
    "with open('not_found_tweets_id_list.txt', 'w') as f:\n",
    "    f.write(S)"
   ]
  },
  {
   "cell_type": "code",
   "execution_count": null,
   "metadata": {},
   "outputs": [],
   "source": [
    "with open('tweet_json.txt', 'r') as file:\n",
    "    step1 = json.load(file)\n",
    "    step2 = json.dumps(step1, indent=5)\n",
    "    print(step1)"
   ]
  },
  {
   "cell_type": "code",
   "execution_count": 106,
   "metadata": {},
   "outputs": [
    {
     "name": "stdout",
     "output_type": "stream",
     "text": [
      "{\n",
      "     \"created_at\": \"Tue Aug 01 16:23:56 +0000 2017\",\n",
      "     \"id\": 892420643555336193,\n",
      "     \"id_str\": \"892420643555336193\",\n",
      "     \"full_text\": \"This is Phineas. He's a mystical boy. Only ever appears in the hole of a donut. 13/10 https://t.co/MgUWQ76dJU\",\n",
      "     \"truncated\": false,\n",
      "     \"display_text_range\": [\n",
      "          0,\n",
      "          85\n",
      "     ],\n",
      "     \"entities\": {\n",
      "          \"hashtags\": [],\n",
      "          \"symbols\": [],\n",
      "          \"user_mentions\": [],\n",
      "          \"urls\": [],\n",
      "          \"media\": [\n",
      "               {\n",
      "                    \"id\": 892420639486877696,\n",
      "                    \"id_str\": \"892420639486877696\",\n",
      "                    \"indices\": [\n",
      "                         86,\n",
      "                         109\n",
      "                    ],\n",
      "                    \"media_url\": \"http://pbs.twimg.com/media/DGKD1-bXoAAIAUK.jpg\",\n",
      "                    \"media_url_https\": \"https://pbs.twimg.com/media/DGKD1-bXoAAIAUK.jpg\",\n",
      "                    \"url\": \"https://t.co/MgUWQ76dJU\",\n",
      "                    \"display_url\": \"pic.twitter.com/MgUWQ76dJU\",\n",
      "                    \"expanded_url\": \"https://twitter.com/dog_rates/status/892420643555336193/photo/1\",\n",
      "                    \"type\": \"photo\",\n",
      "                    \"sizes\": {\n",
      "                         \"thumb\": {\n",
      "                              \"w\": 150,\n",
      "                              \"h\": 150,\n",
      "                              \"resize\": \"crop\"\n",
      "                         },\n",
      "                         \"medium\": {\n",
      "                              \"w\": 540,\n",
      "                              \"h\": 528,\n",
      "                              \"resize\": \"fit\"\n",
      "                         },\n",
      "                         \"small\": {\n",
      "                              \"w\": 540,\n",
      "                              \"h\": 528,\n",
      "                              \"resize\": \"fit\"\n",
      "                         },\n",
      "                         \"large\": {\n",
      "                              \"w\": 540,\n",
      "                              \"h\": 528,\n",
      "                              \"resize\": \"fit\"\n",
      "                         }\n",
      "                    }\n",
      "               }\n",
      "          ]\n",
      "     },\n",
      "     \"extended_entities\": {\n",
      "          \"media\": [\n",
      "               {\n",
      "                    \"id\": 892420639486877696,\n",
      "                    \"id_str\": \"892420639486877696\",\n",
      "                    \"indices\": [\n",
      "                         86,\n",
      "                         109\n",
      "                    ],\n",
      "                    \"media_url\": \"http://pbs.twimg.com/media/DGKD1-bXoAAIAUK.jpg\",\n",
      "                    \"media_url_https\": \"https://pbs.twimg.com/media/DGKD1-bXoAAIAUK.jpg\",\n",
      "                    \"url\": \"https://t.co/MgUWQ76dJU\",\n",
      "                    \"display_url\": \"pic.twitter.com/MgUWQ76dJU\",\n",
      "                    \"expanded_url\": \"https://twitter.com/dog_rates/status/892420643555336193/photo/1\",\n",
      "                    \"type\": \"photo\",\n",
      "                    \"sizes\": {\n",
      "                         \"thumb\": {\n",
      "                              \"w\": 150,\n",
      "                              \"h\": 150,\n",
      "                              \"resize\": \"crop\"\n",
      "                         },\n",
      "                         \"medium\": {\n",
      "                              \"w\": 540,\n",
      "                              \"h\": 528,\n",
      "                              \"resize\": \"fit\"\n",
      "                         },\n",
      "                         \"small\": {\n",
      "                              \"w\": 540,\n",
      "                              \"h\": 528,\n",
      "                              \"resize\": \"fit\"\n",
      "                         },\n",
      "                         \"large\": {\n",
      "                              \"w\": 540,\n",
      "                              \"h\": 528,\n",
      "                              \"resize\": \"fit\"\n",
      "                         }\n",
      "                    }\n",
      "               }\n",
      "          ]\n",
      "     },\n",
      "     \"source\": \"<a href=\\\"http://twitter.com/download/iphone\\\" rel=\\\"nofollow\\\">Twitter for iPhone</a>\",\n",
      "     \"in_reply_to_status_id\": null,\n",
      "     \"in_reply_to_status_id_str\": null,\n",
      "     \"in_reply_to_user_id\": null,\n",
      "     \"in_reply_to_user_id_str\": null,\n",
      "     \"in_reply_to_screen_name\": null,\n",
      "     \"user\": {\n",
      "          \"id\": 4196983835,\n",
      "          \"id_str\": \"4196983835\",\n",
      "          \"name\": \"WeRateDogs\\u00ae\",\n",
      "          \"screen_name\": \"dog_rates\",\n",
      "          \"location\": \"\\u300c DM YOUR DOGS \\u300d\",\n",
      "          \"description\": \"Your Only Source For Professional Dog Ratings Instagram and Facebook \\u27aa WeRateDogs partnerships@weratedogs.com \\u2800\\u2800\\u2800\\u2800\\u2800\\u2800\\u2800\\u2800\\u2800\\u2800\\u2800\\u2800\",\n",
      "          \"url\": \"https://t.co/Wrvtpnv7JV\",\n",
      "          \"entities\": {\n",
      "               \"url\": {\n",
      "                    \"urls\": [\n",
      "                         {\n",
      "                              \"url\": \"https://t.co/Wrvtpnv7JV\",\n",
      "                              \"expanded_url\": \"https://blacklivesmatters.carrd.co\",\n",
      "                              \"display_url\": \"blacklivesmatters.carrd.co\",\n",
      "                              \"indices\": [\n",
      "                                   0,\n",
      "                                   23\n",
      "                              ]\n",
      "                         }\n",
      "                    ]\n",
      "               },\n",
      "               \"description\": {\n",
      "                    \"urls\": []\n",
      "               }\n",
      "          },\n",
      "          \"protected\": false,\n",
      "          \"followers_count\": 8779993,\n",
      "          \"friends_count\": 16,\n",
      "          \"listed_count\": 5569,\n",
      "          \"created_at\": \"Sun Nov 15 21:41:29 +0000 2015\",\n",
      "          \"favourites_count\": 146141,\n",
      "          \"utc_offset\": null,\n",
      "          \"time_zone\": null,\n",
      "          \"geo_enabled\": true,\n",
      "          \"verified\": true,\n",
      "          \"statuses_count\": 12318,\n",
      "          \"lang\": null,\n",
      "          \"contributors_enabled\": false,\n",
      "          \"is_translator\": false,\n",
      "          \"is_translation_enabled\": false,\n",
      "          \"profile_background_color\": \"000000\",\n",
      "          \"profile_background_image_url\": \"http://abs.twimg.com/images/themes/theme1/bg.png\",\n",
      "          \"profile_background_image_url_https\": \"https://abs.twimg.com/images/themes/theme1/bg.png\",\n",
      "          \"profile_background_tile\": false,\n",
      "          \"profile_image_url\": \"http://pbs.twimg.com/profile_images/1267972589722296320/XBr04M6J_normal.jpg\",\n",
      "          \"profile_image_url_https\": \"https://pbs.twimg.com/profile_images/1267972589722296320/XBr04M6J_normal.jpg\",\n",
      "          \"profile_banner_url\": \"https://pbs.twimg.com/profile_banners/4196983835/1591077312\",\n",
      "          \"profile_link_color\": \"F5ABB5\",\n",
      "          \"profile_sidebar_border_color\": \"000000\",\n",
      "          \"profile_sidebar_fill_color\": \"000000\",\n",
      "          \"profile_text_color\": \"000000\",\n",
      "          \"profile_use_background_image\": false,\n",
      "          \"has_extended_profile\": false,\n",
      "          \"default_profile\": false,\n",
      "          \"default_profile_image\": false,\n",
      "          \"following\": false,\n",
      "          \"follow_request_sent\": false,\n",
      "          \"notifications\": false,\n",
      "          \"translator_type\": \"none\"\n",
      "     },\n",
      "     \"geo\": null,\n",
      "     \"coordinates\": null,\n",
      "     \"place\": null,\n",
      "     \"contributors\": null,\n",
      "     \"is_quote_status\": false,\n",
      "     \"retweet_count\": 7692,\n",
      "     \"favorite_count\": 36116,\n",
      "     \"favorited\": false,\n",
      "     \"retweeted\": false,\n",
      "     \"possibly_sensitive\": false,\n",
      "     \"possibly_sensitive_appealable\": false,\n",
      "     \"lang\": \"en\"\n",
      "}\n"
     ]
    }
   ],
   "source": [
    "with open('first_tweet_test.txt', 'r') as file:\n",
    "    step1 = json.load(file)\n",
    "    step2 = json.dumps(step1, indent=5)\n",
    "    print(step2)"
   ]
  }
 ],
 "metadata": {
  "kernelspec": {
   "display_name": "Python 3",
   "language": "python",
   "name": "python3"
  },
  "language_info": {
   "codemirror_mode": {
    "name": "ipython",
    "version": 3
   },
   "file_extension": ".py",
   "mimetype": "text/x-python",
   "name": "python",
   "nbconvert_exporter": "python",
   "pygments_lexer": "ipython3",
   "version": "3.7.7"
  }
 },
 "nbformat": 4,
 "nbformat_minor": 4
}
