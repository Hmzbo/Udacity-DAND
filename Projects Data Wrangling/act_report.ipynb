{
 "cells": [
  {
   "cell_type": "markdown",
   "metadata": {},
   "source": [
    "# Wrangling WeRateDogs twitter archive\n",
    "\n",
    "In this project we gathered many data from the archive of the twitter profile WeRateDogs, which is a profile designated mainly to rating dogs pics with a funny comment and a rating on a 1-to-10 scale, as shown in the images below.\n",
    "\n",
    "<img src=\"files/weratedogs_example.png\"  title=\"WeRateDogs tweet\" width=\"500\"/><img src=\"files/weratedogs_example2.png\"  title=\"WeRateDogs tweet\" width=\"500\"/>"
   ]
  },
  {
   "cell_type": "markdown",
   "metadata": {},
   "source": [
    "As shown in this picture, usually the tweets contains 1 to 4 images of a dog, the comment is contains other informations about the dog, for instance here we have the dog name: Sammy.\n",
    "\n",
    "In our study we are mostly focused on the rating of the dogs in our data. After collecting, assessing, cleaning, and analysing enough data about 2110 dog."
   ]
  },
  {
   "cell_type": "markdown",
   "metadata": {},
   "source": [
    "We are able to answer 4 interesting questions:\n",
    "1. What is the average rating of a dog by WeRateDogs?\n",
    "2. What are the TOP 5 rated dog breeds on average by WeRateDogs?\n",
    "3. What is the top rated breed on average for each dog stage?\n",
    "4. What is the TOP 10 most popular breed according to WeRateDogs data?"
   ]
  },
  {
   "cell_type": "markdown",
   "metadata": {},
   "source": [
    "## What is the average rating of a dog by WeRateDogs?\n",
    "\n",
    "WeRateDogs have a special way of rating on a scale of 1-to-10 dogs, for example Stuart is rated 13/10 and that is simply because [\"they're good dogs Brent.\"](https://knowyourmeme.com/memes/theyre-good-dogs-brent).\n",
    "The average rating a dog by WeRateDogs is: 12.20"
   ]
  },
  {
   "cell_type": "markdown",
   "metadata": {},
   "source": [
    "## What are the TOP 5 rated dog breeds on average by WeRateDogs?\n",
    "\n",
    "Since WeRateDogs does not provide us the information about the breed of the dog in the picture, so we have used a neural network to help us predict each dog's breed. The folowing bar chart presents the TOP 5 on average rated breeds: \n",
    "\n",
    "<img src=\"files/top5_breeds.png\"  title=\"WeRateDogs tweet\" width=\"500\"/>\n",
    "\n",
    "And the top 1 rated breed award goes to: soft coated wheaten terrier\n",
    "\n",
    "<img src=\"files/top_breed.jpg\"  title=\"WeRateDogs tweet\" width=\"500\"/>"
   ]
  },
  {
   "cell_type": "markdown",
   "metadata": {},
   "source": [
    "##  What is the top rated breed on average for each dog stage?\n",
    "\n",
    "As the followers of WeRateDogs know, there are 4 stages of a dog: \n",
    " - duggo\n",
    " - pupper\n",
    " - puppo\n",
    " - floofer\n",
    " \n",
    "More details about these stages in the folowing image:\n",
    "\n",
    "<img src=\"files/dog_stages.png\"  title=\"WeRateDogs tweet\" width=\"950\"/>\n",
    "\n",
    "The table below presents the results:\n",
    "\n",
    "| Stage | Breed | Rating |\n",
    "| --- | --- | --- |\n",
    "| Pupper   | Black and tan coonhound   | 14 |\n",
    "| Doggo   | Standard poodle   | 14 |\n",
    "| Puppo   | Rottweiler\t   | 14 |\n",
    "| Floofer   | Chow   | 13 |\n",
    "\n",
    "Black and tan coonhounds are the top rated Puppers, Standard poodles are the top rated Doggos, Rottweiler are the top rated Puppos, and Chows are the top rated Floofers."
   ]
  },
  {
   "cell_type": "markdown",
   "metadata": {},
   "source": [
    "## What is the TOP 10 most popular breed according to WeRateDogs data?\n",
    "\n",
    "Lastly, we're going to find out what are the 10 most popular breeds according to WeRateDogs data.\n",
    "\n",
    "<img src=\"files/most_popular_breeds.png\"  title=\"WeRateDogs tweet\" width=\"950\"/>"
   ]
  },
  {
   "cell_type": "markdown",
   "metadata": {},
   "source": [
    "**Conclusion: \n",
    "Now we have all the valuable informations we need so that next time when we decide to buy a dog we make sure we get excellent rating on WeRateDogs ;)**"
   ]
  }
 ],
 "metadata": {
  "kernelspec": {
   "display_name": "Python 3",
   "language": "python",
   "name": "python3"
  },
  "language_info": {
   "codemirror_mode": {
    "name": "ipython",
    "version": 3
   },
   "file_extension": ".py",
   "mimetype": "text/x-python",
   "name": "python",
   "nbconvert_exporter": "python",
   "pygments_lexer": "ipython3",
   "version": "3.7.7"
  }
 },
 "nbformat": 4,
 "nbformat_minor": 4
}
